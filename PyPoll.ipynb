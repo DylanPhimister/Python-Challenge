{
 "cells": [
  {
   "cell_type": "code",
   "execution_count": 29,
   "id": "14e7f013-b329-447c-b242-eba495b17c85",
   "metadata": {},
   "outputs": [],
   "source": [
    "import os\n",
    "import csv\n"
   ]
  },
  {
   "cell_type": "code",
   "execution_count": 31,
   "id": "86357005-229f-4fb2-aa79-b2d5575a9f56",
   "metadata": {},
   "outputs": [],
   "source": [
    "total_votes = {}\n",
    "ballot = []\n",
    "\n",
    "Stockham = 0\n",
    "Doane = 0\n",
    "Degette = 0"
   ]
  },
  {
   "cell_type": "code",
   "execution_count": 33,
   "id": "b890dd47-12e0-42d3-8d9f-103840aa2770",
   "metadata": {},
   "outputs": [
    {
     "name": "stdout",
     "output_type": "stream",
     "text": [
      "Election Results\n",
      "----------------------------------------\n",
      "Total Votes: 369711\n",
      "----------------------------------------\n",
      "Charles Casper Stockham: 23.049% (85213)\n",
      "Raymon Anthony Doane: 3.139% (11606)\n",
      "Diana DeGette: 73.812% (272892)\n",
      "----------------------------------------\n",
      "Winner: Diana DeGette\n",
      "----------------------------------------\n"
     ]
    }
   ],
   "source": [
    "election_csv = os.path.join(\"C:/Users/dylan/Downloads/PythonChallenge/Starter_Code/PyPoll/Resources/election_data.csv\")\n",
    "with open(election_csv) as csv_file:\n",
    "    csv_reader = csv.reader(csv_file, delimiter = \",\")\n",
    "    csv_header = next(csv_reader)\n",
    "    for row in csv_reader:\n",
    "        ballot.append(row[1])\n",
    "        votes = len(ballot)\n",
    "        if row[2] == \"Charles Casper Stockham\":\n",
    "            Stockham += 1\n",
    "        elif row[2] == \"Raymon Anthony Doane\":\n",
    "            Doane += 1\n",
    "        elif row[2] == \"Diana DeGette\":\n",
    "            Degette += 1\n",
    "\n",
    "Charles = round((Stockham / votes) * 100, 3)\n",
    "Raymon = round((Doane / votes) * 100, 3)\n",
    "Diana = round((Degette / votes) * 100, 3)\n",
    "\n",
    "vote_dict = {\"Charles Casper Stockham\": Stockham, \"Raymon Anthony Doane\": Doane, \"Diana DeGette\": Degette}\n",
    "\n",
    "winner = max(vote_dict, key=vote_dict.get)\n",
    "\n",
    "print(\"Election Results\")\n",
    "print(\"----------------------------------------\")\n",
    "print(f\"Total Votes: {votes}\")\n",
    "print(\"----------------------------------------\")\n",
    "print(f\"Charles Casper Stockham: {Charles}% ({Stockham})\")\n",
    "print(f\"Raymon Anthony Doane: {Raymon}% ({Doane})\")\n",
    "print(f\"Diana DeGette: {Diana}% ({Degette})\")\n",
    "print(\"----------------------------------------\")\n",
    "print(f\"Winner: {winner}\")\n",
    "print(\"----------------------------------------\")\n",
    "\n",
    "            "
   ]
  },
  {
   "cell_type": "code",
   "execution_count": 35,
   "id": "e03ec414-aafe-4fdf-9596-5219d5293470",
   "metadata": {},
   "outputs": [],
   "source": [
    "output_path = \"output2.txt\"\n",
    "\n",
    "file = open(output_path, \"w\")\n",
    "\n",
    "file.write(\"Election Results\")\n",
    "file.write(\"----------------------------------------\")\n",
    "file.write(f\"Total Votes: {votes}\")\n",
    "file.write(\"----------------------------------------\")\n",
    "file.write(f\"Charles Casper Stockham: {Charles} ({Stockham})\")\n",
    "file.write(f\"Raymon Anthony Doane: {Raymon} ({Doane})\")\n",
    "file.write(f\"Diana DeGette: {Diana} ({Degette})\")\n",
    "file.write(\"----------------------------------------\")\n",
    "file.write(f\"Winner: {winner}\")\n",
    "file.write(\"----------------------------------------\")\n",
    "\n",
    "file.close()\n"
   ]
  },
  {
   "cell_type": "code",
   "execution_count": null,
   "id": "cf065cb6-9d01-42d3-aeec-119e787d0e20",
   "metadata": {},
   "outputs": [],
   "source": []
  },
  {
   "cell_type": "code",
   "execution_count": null,
   "id": "d62b38c9-387a-40ab-be98-793bca1317a9",
   "metadata": {},
   "outputs": [],
   "source": []
  }
 ],
 "metadata": {
  "kernelspec": {
   "display_name": "Python 3 (ipykernel)",
   "language": "python",
   "name": "python3"
  },
  "language_info": {
   "codemirror_mode": {
    "name": "ipython",
    "version": 3
   },
   "file_extension": ".py",
   "mimetype": "text/x-python",
   "name": "python",
   "nbconvert_exporter": "python",
   "pygments_lexer": "ipython3",
   "version": "3.12.4"
  }
 },
 "nbformat": 4,
 "nbformat_minor": 5
}
