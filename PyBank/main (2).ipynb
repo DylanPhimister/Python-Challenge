{
 "cells": [
  {
   "cell_type": "code",
   "execution_count": 18,
   "id": "97127774-7d12-4ca1-b23c-e1fc3da0eb74",
   "metadata": {},
   "outputs": [],
   "source": [
    "import os\n",
    "import csv"
   ]
  },
  {
   "cell_type": "code",
   "execution_count": 20,
   "id": "7c06ab8c-801f-4033-8f0f-11250db05621",
   "metadata": {},
   "outputs": [],
   "source": [
    "totalmonths = 0\n",
    "total = 0\n",
    "change = []\n",
    "profitloss=[]\n",
    "month= []"
   ]
  },
  {
   "cell_type": "code",
   "execution_count": 22,
   "id": "933b27b9-45d1-4c0b-9f48-9ca291331161",
   "metadata": {},
   "outputs": [
    {
     "name": "stdout",
     "output_type": "stream",
     "text": [
      "Financial Analysis\n",
      "----------------------------\n",
      "Total Months: 86\n",
      "Total: $22564198\n",
      "Average Change: $-8311.11\n",
      "Greatest Increase in Profits: Aug-16 ($1862002)\n",
      "Dreatest Decrease in Profits: Feb-14 ($-1825558)\n"
     ]
    }
   ],
   "source": [
    "bank_csv = os.path.join('Resources','budget_data.csv')\n",
    "with open(bank_csv) as csv_file:\n",
    "    csv_reader = csv.reader(csv_file, delimiter = \",\")\n",
    "    csv_header = next(csv_reader)\n",
    "    for csvrow in csv_reader:\n",
    "        totalmonths+=1\n",
    "        total+=int(csvrow[1])\n",
    "        month.append(csvrow[0])\n",
    "        profitloss.append(int(csvrow[1])) \n",
    "        change.append(profitloss[totalmonths-1]-profitloss[totalmonths-2])\n",
    "    totalchange = sum(change)\n",
    "    averagechange = round(totalchange/(len(change)-1), 2)\n",
    "    inc_profit = max(change)\n",
    "    grt_increase = change.index(inc_profit)\n",
    "    dec_profit = min(change)\n",
    "    grt_decrease = change.index(dec_profit)\n",
    "\n",
    "\n",
    "print(\"Financial Analysis\")\n",
    "print(\"----------------------------\")\n",
    "print(f\"Total Months: {totalmonths}\")\n",
    "print(f\"Total: ${total}\")\n",
    "print(f\"Average Change: ${averagechange}\")\n",
    "print(f\"Greatest Increase in Profits: {month[grt_increase]} (${inc_profit})\")\n",
    "print(f\"Greatest Decrease in Profits: {month[grt_decrease]} (${ dec_profit})\")\n"
   ]
  },
  {
   "cell_type": "code",
   "execution_count": 48,
   "id": "323d9ff9-09cd-4117-ba11-6cb64f3c429f",
   "metadata": {},
   "outputs": [],
   "source": [
    "output_path = \"output.txt\"\n",
    "\n",
    "file =  open(output_path, 'w')\n",
    "\n",
    "file.write(\"Financial Analysis\")\n",
    "file.write(\"----------------------------\")\n",
    "file.write(f\"Total Months: {totalmonths}\")\n",
    "file.write(f\"Total: ${total}\")\n",
    "file.write(f\"Average Change: ${averagechange}\")\n",
    "file.write(f\"Greatest Increase in Profits: {month[grt_increase]} (${inc_profit})\")\n",
    "file.write(f\"Dreatest Decrease in Profits: {month[grt_decrease]} (${ dec_profit})\")\n",
    "\n",
    "file.close()\n"
   ]
  },
  {
   "cell_type": "code",
   "execution_count": null,
   "id": "a7a3b60b-7158-4a07-874d-3db0496619ed",
   "metadata": {},
   "outputs": [],
   "source": []
  },
  {
   "cell_type": "code",
   "execution_count": null,
   "id": "98688c91-4a86-46de-9c83-3f65e0558b4c",
   "metadata": {},
   "outputs": [],
   "source": []
  }
 ],
 "metadata": {
  "kernelspec": {
   "display_name": "Python 3 (ipykernel)",
   "language": "python",
   "name": "python3"
  },
  "language_info": {
   "codemirror_mode": {
    "name": "ipython",
    "version": 3
   },
   "file_extension": ".py",
   "mimetype": "text/x-python",
   "name": "python",
   "nbconvert_exporter": "python",
   "pygments_lexer": "ipython3",
   "version": "3.12.4"
  }
 },
 "nbformat": 4,
 "nbformat_minor": 5
}
